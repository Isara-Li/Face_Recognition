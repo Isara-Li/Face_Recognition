{
  "cells": [
    {
      "cell_type": "code",
      "execution_count": 1,
      "metadata": {
        "colab": {
          "base_uri": "https://localhost:8080/"
        },
        "id": "M-FCZn9Tmj5E",
        "outputId": "8c1e6d82-99c2-4efb-ea9c-257a62147019"
      },
      "outputs": [
        {
          "name": "stdout",
          "output_type": "stream",
          "text": [
            "Requirement already satisfied: labelme in c:\\users\\isara liyanage\\appdata\\local\\programs\\python\\python312\\lib\\site-packages (5.4.1)\n",
            "Requirement already satisfied: tensorflow in c:\\users\\isara liyanage\\appdata\\local\\programs\\python\\python312\\lib\\site-packages (2.16.1)\n",
            "Requirement already satisfied: opencv-python in c:\\users\\isara liyanage\\appdata\\local\\programs\\python\\python312\\lib\\site-packages (4.9.0.80)\n",
            "Requirement already satisfied: matplotlib in c:\\users\\isara liyanage\\appdata\\local\\programs\\python\\python312\\lib\\site-packages (3.8.0)\n",
            "Requirement already satisfied: albumentations in c:\\users\\isara liyanage\\appdata\\local\\programs\\python\\python312\\lib\\site-packages (1.4.8)\n",
            "Requirement already satisfied: gdown in c:\\users\\isara liyanage\\appdata\\local\\programs\\python\\python312\\lib\\site-packages (from labelme) (5.2.0)\n",
            "Requirement already satisfied: imgviz>=1.7.5 in c:\\users\\isara liyanage\\appdata\\local\\programs\\python\\python312\\lib\\site-packages (from labelme) (1.7.5)\n",
            "Requirement already satisfied: natsort>=7.1.0 in c:\\users\\isara liyanage\\appdata\\local\\programs\\python\\python312\\lib\\site-packages (from labelme) (8.4.0)\n",
            "Requirement already satisfied: numpy in c:\\users\\isara liyanage\\appdata\\local\\programs\\python\\python312\\lib\\site-packages (from labelme) (1.26.4)\n",
            "Requirement already satisfied: onnxruntime!=1.16.0,>=1.14.1 in c:\\users\\isara liyanage\\appdata\\local\\programs\\python\\python312\\lib\\site-packages (from labelme) (1.18.0)\n",
            "Requirement already satisfied: Pillow>=2.8 in c:\\users\\isara liyanage\\appdata\\local\\programs\\python\\python312\\lib\\site-packages (from labelme) (10.1.0)\n",
            "Requirement already satisfied: PyYAML in c:\\users\\isara liyanage\\appdata\\local\\programs\\python\\python312\\lib\\site-packages (from labelme) (6.0.1)\n",
            "Requirement already satisfied: qtpy!=1.11.2 in c:\\users\\isara liyanage\\appdata\\local\\programs\\python\\python312\\lib\\site-packages (from labelme) (2.4.1)\n",
            "Requirement already satisfied: scikit-image in c:\\users\\isara liyanage\\appdata\\local\\programs\\python\\python312\\lib\\site-packages (from labelme) (0.23.2)\n",
            "Requirement already satisfied: termcolor in c:\\users\\isara liyanage\\appdata\\local\\programs\\python\\python312\\lib\\site-packages (from labelme) (2.4.0)\n",
            "Requirement already satisfied: PyQt5!=5.15.3,!=5.15.4 in c:\\users\\isara liyanage\\appdata\\local\\programs\\python\\python312\\lib\\site-packages (from labelme) (5.15.10)\n",
            "Requirement already satisfied: colorama in c:\\users\\isara liyanage\\appdata\\local\\programs\\python\\python312\\lib\\site-packages (from labelme) (0.4.6)\n",
            "Requirement already satisfied: tensorflow-intel==2.16.1 in c:\\users\\isara liyanage\\appdata\\local\\programs\\python\\python312\\lib\\site-packages (from tensorflow) (2.16.1)\n",
            "Requirement already satisfied: absl-py>=1.0.0 in c:\\users\\isara liyanage\\appdata\\local\\programs\\python\\python312\\lib\\site-packages (from tensorflow-intel==2.16.1->tensorflow) (2.1.0)\n",
            "Requirement already satisfied: astunparse>=1.6.0 in c:\\users\\isara liyanage\\appdata\\local\\programs\\python\\python312\\lib\\site-packages (from tensorflow-intel==2.16.1->tensorflow) (1.6.3)\n",
            "Requirement already satisfied: flatbuffers>=23.5.26 in c:\\users\\isara liyanage\\appdata\\local\\programs\\python\\python312\\lib\\site-packages (from tensorflow-intel==2.16.1->tensorflow) (24.3.7)\n",
            "Requirement already satisfied: gast!=0.5.0,!=0.5.1,!=0.5.2,>=0.2.1 in c:\\users\\isara liyanage\\appdata\\local\\programs\\python\\python312\\lib\\site-packages (from tensorflow-intel==2.16.1->tensorflow) (0.5.4)\n",
            "Requirement already satisfied: google-pasta>=0.1.1 in c:\\users\\isara liyanage\\appdata\\local\\programs\\python\\python312\\lib\\site-packages (from tensorflow-intel==2.16.1->tensorflow) (0.2.0)\n",
            "Requirement already satisfied: h5py>=3.10.0 in c:\\users\\isara liyanage\\appdata\\local\\programs\\python\\python312\\lib\\site-packages (from tensorflow-intel==2.16.1->tensorflow) (3.10.0)\n",
            "Requirement already satisfied: libclang>=13.0.0 in c:\\users\\isara liyanage\\appdata\\local\\programs\\python\\python312\\lib\\site-packages (from tensorflow-intel==2.16.1->tensorflow) (18.1.1)\n",
            "Requirement already satisfied: ml-dtypes~=0.3.1 in c:\\users\\isara liyanage\\appdata\\local\\programs\\python\\python312\\lib\\site-packages (from tensorflow-intel==2.16.1->tensorflow) (0.3.2)\n",
            "Requirement already satisfied: opt-einsum>=2.3.2 in c:\\users\\isara liyanage\\appdata\\local\\programs\\python\\python312\\lib\\site-packages (from tensorflow-intel==2.16.1->tensorflow) (3.3.0)\n",
            "Requirement already satisfied: packaging in c:\\users\\isara liyanage\\appdata\\local\\programs\\python\\python312\\lib\\site-packages (from tensorflow-intel==2.16.1->tensorflow) (23.2)\n",
            "Requirement already satisfied: protobuf!=4.21.0,!=4.21.1,!=4.21.2,!=4.21.3,!=4.21.4,!=4.21.5,<5.0.0dev,>=3.20.3 in c:\\users\\isara liyanage\\appdata\\local\\programs\\python\\python312\\lib\\site-packages (from tensorflow-intel==2.16.1->tensorflow) (4.25.3)\n",
            "Requirement already satisfied: requests<3,>=2.21.0 in c:\\users\\isara liyanage\\appdata\\local\\programs\\python\\python312\\lib\\site-packages (from tensorflow-intel==2.16.1->tensorflow) (2.31.0)\n",
            "Requirement already satisfied: setuptools in c:\\users\\isara liyanage\\appdata\\local\\programs\\python\\python312\\lib\\site-packages (from tensorflow-intel==2.16.1->tensorflow) (69.0.2)\n",
            "Requirement already satisfied: six>=1.12.0 in c:\\users\\isara liyanage\\appdata\\local\\programs\\python\\python312\\lib\\site-packages (from tensorflow-intel==2.16.1->tensorflow) (1.16.0)\n",
            "Requirement already satisfied: typing-extensions>=3.6.6 in c:\\users\\isara liyanage\\appdata\\local\\programs\\python\\python312\\lib\\site-packages (from tensorflow-intel==2.16.1->tensorflow) (4.10.0)\n",
            "Requirement already satisfied: wrapt>=1.11.0 in c:\\users\\isara liyanage\\appdata\\local\\programs\\python\\python312\\lib\\site-packages (from tensorflow-intel==2.16.1->tensorflow) (1.16.0)\n",
            "Requirement already satisfied: grpcio<2.0,>=1.24.3 in c:\\users\\isara liyanage\\appdata\\local\\programs\\python\\python312\\lib\\site-packages (from tensorflow-intel==2.16.1->tensorflow) (1.62.1)\n",
            "Requirement already satisfied: tensorboard<2.17,>=2.16 in c:\\users\\isara liyanage\\appdata\\local\\programs\\python\\python312\\lib\\site-packages (from tensorflow-intel==2.16.1->tensorflow) (2.16.2)\n",
            "Requirement already satisfied: keras>=3.0.0 in c:\\users\\isara liyanage\\appdata\\local\\programs\\python\\python312\\lib\\site-packages (from tensorflow-intel==2.16.1->tensorflow) (3.0.5)\n",
            "Requirement already satisfied: contourpy>=1.0.1 in c:\\users\\isara liyanage\\appdata\\local\\programs\\python\\python312\\lib\\site-packages (from matplotlib) (1.1.1)\n",
            "Requirement already satisfied: cycler>=0.10 in c:\\users\\isara liyanage\\appdata\\local\\programs\\python\\python312\\lib\\site-packages (from matplotlib) (0.12.1)\n",
            "Requirement already satisfied: fonttools>=4.22.0 in c:\\users\\isara liyanage\\appdata\\local\\programs\\python\\python312\\lib\\site-packages (from matplotlib) (4.43.1)\n",
            "Requirement already satisfied: kiwisolver>=1.0.1 in c:\\users\\isara liyanage\\appdata\\local\\programs\\python\\python312\\lib\\site-packages (from matplotlib) (1.4.5)\n",
            "Requirement already satisfied: pyparsing>=2.3.1 in c:\\users\\isara liyanage\\appdata\\local\\programs\\python\\python312\\lib\\site-packages (from matplotlib) (3.1.1)\n",
            "Requirement already satisfied: python-dateutil>=2.7 in c:\\users\\isara liyanage\\appdata\\local\\programs\\python\\python312\\lib\\site-packages (from matplotlib) (2.8.2)\n",
            "Requirement already satisfied: scipy>=1.10.0 in c:\\users\\isara liyanage\\appdata\\local\\programs\\python\\python312\\lib\\site-packages (from albumentations) (1.12.0)\n",
            "Requirement already satisfied: scikit-learn>=1.3.2 in c:\\users\\isara liyanage\\appdata\\local\\programs\\python\\python312\\lib\\site-packages (from albumentations) (1.4.0)\n",
            "Requirement already satisfied: pydantic>=2.7.0 in c:\\users\\isara liyanage\\appdata\\local\\programs\\python\\python312\\lib\\site-packages (from albumentations) (2.7.3)\n",
            "Requirement already satisfied: albucore>=0.0.4 in c:\\users\\isara liyanage\\appdata\\local\\programs\\python\\python312\\lib\\site-packages (from albumentations) (0.0.9)\n",
            "Requirement already satisfied: opencv-python-headless>=4.9.0.80 in c:\\users\\isara liyanage\\appdata\\local\\programs\\python\\python312\\lib\\site-packages (from albumentations) (4.10.0.82)\n",
            "Requirement already satisfied: tomli>=2.0.1 in c:\\users\\isara liyanage\\appdata\\local\\programs\\python\\python312\\lib\\site-packages (from albucore>=0.0.4->albumentations) (2.0.1)\n",
            "Requirement already satisfied: coloredlogs in c:\\users\\isara liyanage\\appdata\\local\\programs\\python\\python312\\lib\\site-packages (from onnxruntime!=1.16.0,>=1.14.1->labelme) (15.0.1)\n",
            "Requirement already satisfied: sympy in c:\\users\\isara liyanage\\appdata\\local\\programs\\python\\python312\\lib\\site-packages (from onnxruntime!=1.16.0,>=1.14.1->labelme) (1.12.1)\n",
            "Requirement already satisfied: annotated-types>=0.4.0 in c:\\users\\isara liyanage\\appdata\\local\\programs\\python\\python312\\lib\\site-packages (from pydantic>=2.7.0->albumentations) (0.7.0)\n",
            "Requirement already satisfied: pydantic-core==2.18.4 in c:\\users\\isara liyanage\\appdata\\local\\programs\\python\\python312\\lib\\site-packages (from pydantic>=2.7.0->albumentations) (2.18.4)\n",
            "Requirement already satisfied: PyQt5-sip<13,>=12.13 in c:\\users\\isara liyanage\\appdata\\local\\programs\\python\\python312\\lib\\site-packages (from PyQt5!=5.15.3,!=5.15.4->labelme) (12.13.0)\n",
            "Requirement already satisfied: PyQt5-Qt5>=5.15.2 in c:\\users\\isara liyanage\\appdata\\local\\programs\\python\\python312\\lib\\site-packages (from PyQt5!=5.15.3,!=5.15.4->labelme) (5.15.2)\n",
            "Requirement already satisfied: networkx>=2.8 in c:\\users\\isara liyanage\\appdata\\local\\programs\\python\\python312\\lib\\site-packages (from scikit-image->labelme) (3.3)\n",
            "Requirement already satisfied: imageio>=2.33 in c:\\users\\isara liyanage\\appdata\\local\\programs\\python\\python312\\lib\\site-packages (from scikit-image->labelme) (2.34.1)\n",
            "Requirement already satisfied: tifffile>=2022.8.12 in c:\\users\\isara liyanage\\appdata\\local\\programs\\python\\python312\\lib\\site-packages (from scikit-image->labelme) (2024.5.22)\n",
            "Requirement already satisfied: lazy-loader>=0.4 in c:\\users\\isara liyanage\\appdata\\local\\programs\\python\\python312\\lib\\site-packages (from scikit-image->labelme) (0.4)\n",
            "Requirement already satisfied: joblib>=1.2.0 in c:\\users\\isara liyanage\\appdata\\local\\programs\\python\\python312\\lib\\site-packages (from scikit-learn>=1.3.2->albumentations) (1.3.2)\n",
            "Requirement already satisfied: threadpoolctl>=2.0.0 in c:\\users\\isara liyanage\\appdata\\local\\programs\\python\\python312\\lib\\site-packages (from scikit-learn>=1.3.2->albumentations) (3.2.0)\n",
            "Requirement already satisfied: beautifulsoup4 in c:\\users\\isara liyanage\\appdata\\local\\programs\\python\\python312\\lib\\site-packages (from gdown->labelme) (4.12.2)\n",
            "Requirement already satisfied: filelock in c:\\users\\isara liyanage\\appdata\\local\\programs\\python\\python312\\lib\\site-packages (from gdown->labelme) (3.14.0)\n",
            "Requirement already satisfied: tqdm in c:\\users\\isara liyanage\\appdata\\local\\programs\\python\\python312\\lib\\site-packages (from gdown->labelme) (4.66.2)\n",
            "Requirement already satisfied: wheel<1.0,>=0.23.0 in c:\\users\\isara liyanage\\appdata\\local\\programs\\python\\python312\\lib\\site-packages (from astunparse>=1.6.0->tensorflow-intel==2.16.1->tensorflow) (0.43.0)\n",
            "Requirement already satisfied: rich in c:\\users\\isara liyanage\\appdata\\local\\programs\\python\\python312\\lib\\site-packages (from keras>=3.0.0->tensorflow-intel==2.16.1->tensorflow) (13.7.1)\n",
            "Requirement already satisfied: namex in c:\\users\\isara liyanage\\appdata\\local\\programs\\python\\python312\\lib\\site-packages (from keras>=3.0.0->tensorflow-intel==2.16.1->tensorflow) (0.0.7)\n",
            "Requirement already satisfied: dm-tree in c:\\users\\isara liyanage\\appdata\\local\\programs\\python\\python312\\lib\\site-packages (from keras>=3.0.0->tensorflow-intel==2.16.1->tensorflow) (0.1.8)\n",
            "Requirement already satisfied: charset-normalizer<4,>=2 in c:\\users\\isara liyanage\\appdata\\local\\programs\\python\\python312\\lib\\site-packages (from requests<3,>=2.21.0->tensorflow-intel==2.16.1->tensorflow) (3.3.2)\n",
            "Requirement already satisfied: idna<4,>=2.5 in c:\\users\\isara liyanage\\appdata\\local\\programs\\python\\python312\\lib\\site-packages (from requests<3,>=2.21.0->tensorflow-intel==2.16.1->tensorflow) (3.6)\n",
            "Requirement already satisfied: urllib3<3,>=1.21.1 in c:\\users\\isara liyanage\\appdata\\local\\programs\\python\\python312\\lib\\site-packages (from requests<3,>=2.21.0->tensorflow-intel==2.16.1->tensorflow) (2.1.0)\n",
            "Requirement already satisfied: certifi>=2017.4.17 in c:\\users\\isara liyanage\\appdata\\local\\programs\\python\\python312\\lib\\site-packages (from requests<3,>=2.21.0->tensorflow-intel==2.16.1->tensorflow) (2023.11.17)\n",
            "Requirement already satisfied: markdown>=2.6.8 in c:\\users\\isara liyanage\\appdata\\local\\programs\\python\\python312\\lib\\site-packages (from tensorboard<2.17,>=2.16->tensorflow-intel==2.16.1->tensorflow) (3.6)\n",
            "Requirement already satisfied: tensorboard-data-server<0.8.0,>=0.7.0 in c:\\users\\isara liyanage\\appdata\\local\\programs\\python\\python312\\lib\\site-packages (from tensorboard<2.17,>=2.16->tensorflow-intel==2.16.1->tensorflow) (0.7.2)\n",
            "Requirement already satisfied: werkzeug>=1.0.1 in c:\\users\\isara liyanage\\appdata\\local\\programs\\python\\python312\\lib\\site-packages (from tensorboard<2.17,>=2.16->tensorflow-intel==2.16.1->tensorflow) (3.0.1)\n",
            "Requirement already satisfied: soupsieve>1.2 in c:\\users\\isara liyanage\\appdata\\local\\programs\\python\\python312\\lib\\site-packages (from beautifulsoup4->gdown->labelme) (2.5)\n",
            "Requirement already satisfied: humanfriendly>=9.1 in c:\\users\\isara liyanage\\appdata\\local\\programs\\python\\python312\\lib\\site-packages (from coloredlogs->onnxruntime!=1.16.0,>=1.14.1->labelme) (10.0)\n",
            "Requirement already satisfied: PySocks!=1.5.7,>=1.5.6 in c:\\users\\isara liyanage\\appdata\\local\\programs\\python\\python312\\lib\\site-packages (from requests[socks]->gdown->labelme) (1.7.1)\n",
            "Requirement already satisfied: mpmath<1.4.0,>=1.1.0 in c:\\users\\isara liyanage\\appdata\\local\\programs\\python\\python312\\lib\\site-packages (from sympy->onnxruntime!=1.16.0,>=1.14.1->labelme) (1.3.0)\n",
            "Requirement already satisfied: pyreadline3 in c:\\users\\isara liyanage\\appdata\\local\\programs\\python\\python312\\lib\\site-packages (from humanfriendly>=9.1->coloredlogs->onnxruntime!=1.16.0,>=1.14.1->labelme) (3.4.1)\n",
            "Requirement already satisfied: MarkupSafe>=2.1.1 in c:\\users\\isara liyanage\\appdata\\local\\programs\\python\\python312\\lib\\site-packages (from werkzeug>=1.0.1->tensorboard<2.17,>=2.16->tensorflow-intel==2.16.1->tensorflow) (2.1.3)\n",
            "Requirement already satisfied: markdown-it-py>=2.2.0 in c:\\users\\isara liyanage\\appdata\\local\\programs\\python\\python312\\lib\\site-packages (from rich->keras>=3.0.0->tensorflow-intel==2.16.1->tensorflow) (3.0.0)\n",
            "Requirement already satisfied: pygments<3.0.0,>=2.13.0 in c:\\users\\isara liyanage\\appdata\\local\\programs\\python\\python312\\lib\\site-packages (from rich->keras>=3.0.0->tensorflow-intel==2.16.1->tensorflow) (2.17.2)\n",
            "Requirement already satisfied: mdurl~=0.1 in c:\\users\\isara liyanage\\appdata\\local\\programs\\python\\python312\\lib\\site-packages (from markdown-it-py>=2.2.0->rich->keras>=3.0.0->tensorflow-intel==2.16.1->tensorflow) (0.1.2)\n"
          ]
        }
      ],
      "source": [
        "!pip install labelme tensorflow opencv-python matplotlib albumentations"
      ]
    },
    {
      "cell_type": "code",
      "execution_count": 2,
      "metadata": {
        "colab": {
          "base_uri": "https://localhost:8080/"
        },
        "id": "RwTqlxM4mm2H",
        "outputId": "767b031b-ccdb-46eb-e34f-a045930a7b52"
      },
      "outputs": [
        {
          "name": "stdout",
          "output_type": "stream",
          "text": [
            "Collecting tensorflow-gpu\n",
            "  Using cached tensorflow-gpu-2.12.0.tar.gz (2.6 kB)\n",
            "  Preparing metadata (setup.py): started\n",
            "  Preparing metadata (setup.py): finished with status 'error'\n"
          ]
        },
        {
          "name": "stderr",
          "output_type": "stream",
          "text": [
            "  error: subprocess-exited-with-error\n",
            "  \n",
            "  × python setup.py egg_info did not run successfully.\n",
            "  │ exit code: 1\n",
            "  ╰─> [44 lines of output]\n",
            "      Traceback (most recent call last):\n",
            "        File \"C:\\Users\\Isara Liyanage\\AppData\\Local\\Programs\\Python\\Python312\\Lib\\site-packages\\setuptools\\_vendor\\packaging\\requirements.py\", line 35, in __init__\n",
            "          parsed = _parse_requirement(requirement_string)\n",
            "                   ^^^^^^^^^^^^^^^^^^^^^^^^^^^^^^^^^^^^^^\n",
            "        File \"C:\\Users\\Isara Liyanage\\AppData\\Local\\Programs\\Python\\Python312\\Lib\\site-packages\\setuptools\\_vendor\\packaging\\_parser.py\", line 64, in parse_requirement\n",
            "          return _parse_requirement(Tokenizer(source, rules=DEFAULT_RULES))\n",
            "                 ^^^^^^^^^^^^^^^^^^^^^^^^^^^^^^^^^^^^^^^^^^^^^^^^^^^^^^^^^^\n",
            "        File \"C:\\Users\\Isara Liyanage\\AppData\\Local\\Programs\\Python\\Python312\\Lib\\site-packages\\setuptools\\_vendor\\packaging\\_parser.py\", line 82, in _parse_requirement\n",
            "          url, specifier, marker = _parse_requirement_details(tokenizer)\n",
            "                                   ^^^^^^^^^^^^^^^^^^^^^^^^^^^^^^^^^^^^^\n",
            "        File \"C:\\Users\\Isara Liyanage\\AppData\\Local\\Programs\\Python\\Python312\\Lib\\site-packages\\setuptools\\_vendor\\packaging\\_parser.py\", line 126, in _parse_requirement_details\n",
            "          marker = _parse_requirement_marker(\n",
            "                   ^^^^^^^^^^^^^^^^^^^^^^^^^^\n",
            "        File \"C:\\Users\\Isara Liyanage\\AppData\\Local\\Programs\\Python\\Python312\\Lib\\site-packages\\setuptools\\_vendor\\packaging\\_parser.py\", line 147, in _parse_requirement_marker\n",
            "          tokenizer.raise_syntax_error(\n",
            "        File \"C:\\Users\\Isara Liyanage\\AppData\\Local\\Programs\\Python\\Python312\\Lib\\site-packages\\setuptools\\_vendor\\packaging\\_tokenizer.py\", line 165, in raise_syntax_error\n",
            "          raise ParserSyntaxError(\n",
            "      setuptools.extern.packaging._tokenizer.ParserSyntaxError: Expected end or semicolon (after name and no valid version specifier)\n",
            "          python_version>\"3.7\"\n",
            "                        ^\n",
            "      \n",
            "      The above exception was the direct cause of the following exception:\n",
            "      \n",
            "      Traceback (most recent call last):\n",
            "        File \"<string>\", line 2, in <module>\n",
            "        File \"<pip-setuptools-caller>\", line 34, in <module>\n",
            "        File \"C:\\Users\\Isara Liyanage\\AppData\\Local\\Temp\\pip-install-n4wvs2z3\\tensorflow-gpu_c48d16d6933544f286896d6ad5aaa77f\\setup.py\", line 40, in <module>\n",
            "          setuptools.setup()\n",
            "        File \"C:\\Users\\Isara Liyanage\\AppData\\Local\\Programs\\Python\\Python312\\Lib\\site-packages\\setuptools\\__init__.py\", line 102, in setup\n",
            "          _install_setup_requires(attrs)\n",
            "        File \"C:\\Users\\Isara Liyanage\\AppData\\Local\\Programs\\Python\\Python312\\Lib\\site-packages\\setuptools\\__init__.py\", line 73, in _install_setup_requires\n",
            "          dist.parse_config_files(ignore_option_errors=True)\n",
            "        File \"C:\\Users\\Isara Liyanage\\AppData\\Local\\Programs\\Python\\Python312\\Lib\\site-packages\\setuptools\\dist.py\", line 629, in parse_config_files\n",
            "          self._finalize_requires()\n",
            "        File \"C:\\Users\\Isara Liyanage\\AppData\\Local\\Programs\\Python\\Python312\\Lib\\site-packages\\setuptools\\dist.py\", line 364, in _finalize_requires\n",
            "          self._normalize_requires()\n",
            "        File \"C:\\Users\\Isara Liyanage\\AppData\\Local\\Programs\\Python\\Python312\\Lib\\site-packages\\setuptools\\dist.py\", line 379, in _normalize_requires\n",
            "          self.install_requires = list(map(str, _reqs.parse(install_requires)))\n",
            "                                  ^^^^^^^^^^^^^^^^^^^^^^^^^^^^^^^^^^^^^^^^^^^^^\n",
            "        File \"C:\\Users\\Isara Liyanage\\AppData\\Local\\Programs\\Python\\Python312\\Lib\\site-packages\\setuptools\\_vendor\\packaging\\requirements.py\", line 37, in __init__\n",
            "          raise InvalidRequirement(str(e)) from e\n",
            "      setuptools.extern.packaging.requirements.InvalidRequirement: Expected end or semicolon (after name and no valid version specifier)\n",
            "          python_version>\"3.7\"\n",
            "                        ^\n",
            "      [end of output]\n",
            "  \n",
            "  note: This error originates from a subprocess, and is likely not a problem with pip.\n",
            "error: metadata-generation-failed\n",
            "\n",
            "× Encountered error while generating package metadata.\n",
            "╰─> See above for output.\n",
            "\n",
            "note: This is an issue with the package mentioned above, not pip.\n",
            "hint: See above for details.\n"
          ]
        }
      ],
      "source": [
        "!pip install tensorflow-gpu"
      ]
    },
    {
      "cell_type": "code",
      "execution_count": 3,
      "metadata": {
        "id": "JlQ_3k61nqkK"
      },
      "outputs": [],
      "source": [
        "import os\n",
        "import time\n",
        "import uuid #Give unique names to each object\n",
        "import cv2"
      ]
    },
    {
      "cell_type": "code",
      "execution_count": 4,
      "metadata": {
        "id": "NOu2pfxUn5Io"
      },
      "outputs": [],
      "source": [
        "IMAGES_PATH = os.path.join('data','images')\n",
        "number_images = 30"
      ]
    },
    {
      "cell_type": "code",
      "execution_count": 10,
      "metadata": {},
      "outputs": [
        {
          "name": "stdout",
          "output_type": "stream",
          "text": [
            "^C\n"
          ]
        },
        {
          "name": "stderr",
          "output_type": "stream",
          "text": [
            "ERROR: Invalid requirement: '#'\n",
            "ERROR: Invalid requirement: '#'\n"
          ]
        }
      ],
      "source": [
        "!pip uninstall opencv-python\n",
        "!pip install opencv-python-headless  # This version does not include GUI functionalities\n",
        "!pip install opencv-python  # Reinstall the full version with GUI support"
      ]
    },
    {
      "cell_type": "code",
      "execution_count": 8,
      "metadata": {
        "id": "yM4zO4uuoXm-"
      },
      "outputs": [
        {
          "name": "stdout",
          "output_type": "stream",
          "text": [
            "Collecting image 0\n",
            "Failed to capture image\n",
            "Collecting image 1\n",
            "Failed to capture image\n",
            "Collecting image 2\n",
            "Failed to capture image\n",
            "Collecting image 3\n",
            "Failed to capture image\n",
            "Collecting image 4\n",
            "Failed to capture image\n",
            "Collecting image 5\n",
            "Failed to capture image\n",
            "Collecting image 6\n",
            "Failed to capture image\n",
            "Collecting image 7\n",
            "Failed to capture image\n",
            "Collecting image 8\n",
            "Failed to capture image\n",
            "Collecting image 9\n",
            "Failed to capture image\n"
          ]
        },
        {
          "ename": "error",
          "evalue": "OpenCV(4.10.0) D:\\a\\opencv-python\\opencv-python\\opencv\\modules\\highgui\\src\\window.cpp:1295: error: (-2:Unspecified error) The function is not implemented. Rebuild the library with Windows, GTK+ 2.x or Cocoa support. If you are on Ubuntu or Debian, install libgtk2.0-dev and pkg-config, then re-run cmake or configure script in function 'cvDestroyAllWindows'\n",
          "output_type": "error",
          "traceback": [
            "\u001b[1;31m---------------------------------------------------------------------------\u001b[0m",
            "\u001b[1;31merror\u001b[0m                                     Traceback (most recent call last)",
            "Cell \u001b[1;32mIn[8], line 18\u001b[0m\n\u001b[0;32m     16\u001b[0m         \u001b[38;5;28;01mbreak\u001b[39;00m\n\u001b[0;32m     17\u001b[0m cap\u001b[38;5;241m.\u001b[39mrelease()\n\u001b[1;32m---> 18\u001b[0m \u001b[43mcv2\u001b[49m\u001b[38;5;241;43m.\u001b[39;49m\u001b[43mdestroyAllWindows\u001b[49m\u001b[43m(\u001b[49m\u001b[43m)\u001b[49m\n",
            "\u001b[1;31merror\u001b[0m: OpenCV(4.10.0) D:\\a\\opencv-python\\opencv-python\\opencv\\modules\\highgui\\src\\window.cpp:1295: error: (-2:Unspecified error) The function is not implemented. Rebuild the library with Windows, GTK+ 2.x or Cocoa support. If you are on Ubuntu or Debian, install libgtk2.0-dev and pkg-config, then re-run cmake or configure script in function 'cvDestroyAllWindows'\n"
          ]
        }
      ],
      "source": [
        "cap = cv2.VideoCapture(1)\n",
        "for imgnum in range(number_images):\n",
        "    print('Collecting image {}'.format(imgnum))\n",
        "    ret, frame = cap.read() # OpenCV reads the image in BGR format\n",
        "\n",
        "    if not ret:\n",
        "        print(\"Failed to capture image\")\n",
        "        continue\n",
        "\n",
        "    imgname = os.path.join(IMAGES_PATH,f'{str(uuid.uuid1())}.jpg') # uuid1ame function generates a unique name for each image\n",
        "    cv2.imwrite(imgname, frame)\n",
        "    cv2.imshow('frame', frame)\n",
        "    time.sleep(0.5)\n",
        "\n",
        "    if cv2.waitKey(1) & 0xFF == ord('q'):\n",
        "        break\n",
        "cap.release()\n",
        "cv2.destroyAllWindows()"
      ]
    },
    {
      "cell_type": "code",
      "execution_count": null,
      "metadata": {},
      "outputs": [],
      "source": []
    }
  ],
  "metadata": {
    "colab": {
      "provenance": []
    },
    "kernelspec": {
      "display_name": "Python 3",
      "name": "python3"
    },
    "language_info": {
      "codemirror_mode": {
        "name": "ipython",
        "version": 3
      },
      "file_extension": ".py",
      "mimetype": "text/x-python",
      "name": "python",
      "nbconvert_exporter": "python",
      "pygments_lexer": "ipython3",
      "version": "3.12.0"
    }
  },
  "nbformat": 4,
  "nbformat_minor": 0
}
